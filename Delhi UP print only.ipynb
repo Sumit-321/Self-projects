{
 "cells": [
  {
   "cell_type": "code",
   "execution_count": 13,
   "id": "5a0fd088-959b-42ff-b49e-f6c3009d3747",
   "metadata": {},
   "outputs": [],
   "source": [
    "import selenium.webdriver\n",
    "import undetected_chromedriver\n",
    "from selenium.webdriver.common.by import By\n",
    "from selenium.webdriver.common.keys import Keys\n",
    "from selenium.webdriver.support.ui import WebDriverWait\n",
    "from selenium.webdriver.support import expected_conditions\n",
    "import time"
   ]
  },
  {
   "cell_type": "code",
   "execution_count": 14,
   "id": "b1a2e26a-7d8f-4806-92cf-83fc73075bce",
   "metadata": {},
   "outputs": [],
   "source": [
    "# Delhi\n",
    "userid= \"dlsandhau\"\n",
    "password= \"rama@123\""
   ]
  },
  {
   "cell_type": "code",
   "execution_count": null,
   "id": "6f599360-0530-4224-90c2-a5976291cd47",
   "metadata": {},
   "outputs": [],
   "source": [
    "# UP\n",
    "userid= \"dlrupdhas\"\n",
    "password= \"rama@123\""
   ]
  },
  {
   "cell_type": "code",
   "execution_count": 3,
   "id": "b3097b57-041e-48b1-8311-44d269132a60",
   "metadata": {},
   "outputs": [],
   "source": [
    "# driver = selenium.webdriver.Chrome()\n",
    "options= undetected_chromedriver.ChromeOptions()\n",
    "driver = undetected_chromedriver.Chrome(version_main= 137, options= options)\n",
    "driver.get(\"https://www.shcilestamp.com/eStampIndia/useradmin/UserAdminLoginServlet?rDoAction=LoadLoginPage\")\n",
    "credentials_list= [(\"userId\", userid), (\"userPwd\", password)]\n",
    "for (field_id, value) in credentials_list:\n",
    "    field = driver.find_element(By.NAME, field_id)\n",
    "    for ch in value:\n",
    "        field.send_keys(ch)\n",
    "    field.send_keys(\"\\t\")\n",
    "\n",
    "# driver.quit()     # Close the browser"
   ]
  },
  {
   "cell_type": "code",
   "execution_count": 16,
   "id": "e20f5320-849a-45e1-bdf5-e7beb9c1caba",
   "metadata": {},
   "outputs": [
    {
     "data": {
      "text/plain": [
       "0"
      ]
     },
     "execution_count": 16,
     "metadata": {},
     "output_type": "execute_result"
    }
   ],
   "source": [
    "import gc\n",
    "gc.collect()"
   ]
  },
  {
   "cell_type": "code",
   "execution_count": null,
   "id": "ea6705c7-7288-4d46-b93a-9f4d58123bd0",
   "metadata": {
    "scrolled": true
   },
   "outputs": [
    {
     "name": "stdout",
     "output_type": "stream",
     "text": [
      "1. Time taken is : 19.423 seconds.\n",
      "2. Time taken is : 18.488 seconds.\n",
      "3. Time taken is : 18.171 seconds.\n",
      "4. Time taken is : 17.619 seconds.\n",
      "5. Time taken is : 18.141 seconds.\n",
      "6. Time taken is : 18.415 seconds.\n",
      "7. Time taken is : 18.145 seconds.\n",
      "8. Time taken is : 17.718 seconds.\n",
      "9. Time taken is : 18.324 seconds.\n",
      "10. Time taken is : 18.11 seconds.\n",
      "11. Time taken is : 18.02 seconds.\n",
      "12. Time taken is : 18.129 seconds.\n",
      "13. Time taken is : 17.917 seconds.\n",
      "14. Time taken is : 18.234 seconds.\n",
      "15. Time taken is : 18.156 seconds.\n",
      "16. Time taken is : 18.305 seconds.\n",
      "17. Time taken is : 18.532 seconds.\n",
      "18. Time taken is : 20.308 seconds.\n",
      "19. Time taken is : 19.153 seconds.\n",
      "20. Time taken is : 18.73 seconds.\n",
      "21. Time taken is : 18.019 seconds.\n",
      "22. Time taken is : 17.929 seconds.\n",
      "23. Time taken is : 18.065 seconds.\n",
      "24. Time taken is : 18.234 seconds.\n",
      "25. Time taken is : 19.35 seconds.\n",
      "26. Time taken is : 19.236 seconds.\n",
      "27. Time taken is : 19.071 seconds.\n",
      "28. Time taken is : 18.988 seconds.\n",
      "29. Time taken is : 18.168 seconds.\n",
      "30. Time taken is : 18.294 seconds.\n",
      "31. Time taken is : 17.852 seconds.\n",
      "32. Time taken is : 18.217 seconds.\n",
      "33. Time taken is : 17.936 seconds.\n",
      "34. Time taken is : 17.882 seconds.\n",
      "35. Time taken is : 18.415 seconds.\n",
      "36. Time taken is : 18.737 seconds.\n",
      "37. Time taken is : 17.94 seconds.\n",
      "38. Time taken is : 15.449 seconds.\n",
      "39. Time taken is : 15.075 seconds.\n",
      "40. Time taken is : 14.93 seconds.\n",
      "41. Time taken is : 14.921 seconds.\n",
      "42. Time taken is : 15.058 seconds.\n",
      "43. Time taken is : 15.059 seconds.\n",
      "44. Time taken is : 15.089 seconds.\n",
      "45. Time taken is : 17.794 seconds.\n",
      "46. Time taken is : 15.069 seconds.\n",
      "47. Time taken is : 15.028 seconds.\n",
      "48. Time taken is : 15.078 seconds.\n",
      "49. Time taken is : 15.489 seconds.\n",
      "50. Time taken is : 14.986 seconds.\n",
      "51. Time taken is : 14.893 seconds.\n",
      "52. Time taken is : 15.003 seconds.\n",
      "53. Time taken is : 14.896 seconds.\n",
      "54. Time taken is : 15.768 seconds.\n",
      "55. Time taken is : 15.058 seconds.\n",
      "56. Time taken is : 15.526 seconds.\n",
      "57. Time taken is : 14.989 seconds.\n",
      "58. Time taken is : 15.436 seconds.\n",
      "59. Time taken is : 15.063 seconds.\n",
      "60. Time taken is : 15.022 seconds.\n",
      "61. Time taken is : 14.934 seconds.\n",
      "62. Time taken is : 14.948 seconds.\n",
      "63. Time taken is : 14.942 seconds.\n",
      "64. Time taken is : 14.917 seconds.\n",
      "65. Time taken is : 14.984 seconds.\n",
      "66. Time taken is : 14.949 seconds.\n",
      "67. Time taken is : 14.915 seconds.\n",
      "68. Time taken is : 15.0 seconds.\n",
      "69. Time taken is : 15.07 seconds.\n",
      "70. Time taken is : 15.024 seconds.\n",
      "71. Time taken is : 14.901 seconds.\n",
      "72. Time taken is : 14.998 seconds.\n",
      "73. Time taken is : 14.969 seconds.\n",
      "74. Time taken is : 14.927 seconds.\n",
      "75. Time taken is : 15.065 seconds.\n",
      "76. Time taken is : 15.003 seconds.\n",
      "77. Time taken is : 14.968 seconds.\n",
      "78. Time taken is : 15.021 seconds.\n",
      "79. Time taken is : 14.863 seconds.\n",
      "80. Time taken is : 14.948 seconds.\n",
      "81. Time taken is : 15.661 seconds.\n",
      "82. Time taken is : 15.258 seconds.\n",
      "83. Time taken is : 14.949 seconds.\n",
      "84. Time taken is : 14.912 seconds.\n",
      "85. Time taken is : 15.022 seconds.\n",
      "86. Time taken is : 15.433 seconds.\n",
      "87. Time taken is : 15.078 seconds.\n",
      "88. Time taken is : 14.97 seconds.\n",
      "89. Time taken is : 14.991 seconds.\n",
      "90. Time taken is : 15.061 seconds.\n",
      "91. Time taken is : 15.103 seconds.\n",
      "92. Time taken is : 14.901 seconds.\n",
      "93. Time taken is : 14.973 seconds.\n",
      "94. Time taken is : 15.048 seconds.\n",
      "95. Time taken is : 15.03 seconds.\n",
      "96. Time taken is : 14.956 seconds.\n",
      "97. Time taken is : 14.946 seconds.\n",
      "98. Time taken is : 15.055 seconds.\n",
      "99. Time taken is : 15.606 seconds.\n",
      "100. Time taken is : 14.917 seconds.\n",
      "101. Time taken is : 14.913 seconds.\n",
      "102. Time taken is : 15.458 seconds.\n",
      "103. Time taken is : 15.103 seconds.\n",
      "104. Time taken is : 15.002 seconds.\n",
      "105. Time taken is : 15.119 seconds.\n",
      "106. Time taken is : 15.414 seconds.\n",
      "107. Time taken is : 15.033 seconds.\n",
      "108. Time taken is : 14.895 seconds.\n",
      "109. Time taken is : 14.883 seconds.\n",
      "110. Time taken is : 14.936 seconds.\n",
      "111. Time taken is : 14.928 seconds.\n",
      "112. Time taken is : 15.06 seconds.\n",
      "113. Time taken is : 14.95 seconds.\n",
      "114. Time taken is : 15.401 seconds.\n",
      "115. Time taken is : 14.957 seconds.\n",
      "116. Time taken is : 14.915 seconds.\n",
      "117. Time taken is : 14.983 seconds.\n",
      "118. Time taken is : 14.974 seconds.\n",
      "119. Time taken is : 18.117 seconds.\n",
      "120. Time taken is : 14.326 seconds.\n",
      "121. Time taken is : 14.514 seconds.\n",
      "122. Time taken is : 14.797 seconds.\n",
      "123. Time taken is : 14.31 seconds.\n",
      "124. Time taken is : 14.308 seconds.\n",
      "125. Time taken is : 14.447 seconds.\n",
      "126. Time taken is : 14.566 seconds.\n",
      "127. Time taken is : 14.403 seconds.\n",
      "128. Time taken is : 14.518 seconds.\n",
      "129. Time taken is : 14.138 seconds.\n",
      "130. Time taken is : 14.45 seconds.\n",
      "131. Time taken is : 14.521 seconds.\n",
      "132. Time taken is : 15.048 seconds.\n",
      "133. Time taken is : 15.071 seconds.\n",
      "134. Time taken is : 15.258 seconds.\n",
      "135. Time taken is : 18.196 seconds.\n",
      "136. Time taken is : 14.826 seconds.\n",
      "137. Time taken is : 14.247 seconds.\n",
      "138. Time taken is : 14.383 seconds.\n"
     ]
    }
   ],
   "source": [
    "# Generate Certificate\n",
    "desired_count= 138\n",
    "i= 1\n",
    "while i <= desired_count:\n",
    "    t1= time.time()\n",
    "    driver.get(\"https://www.shcilestamp.com/eStampIndia/cert/certgen/CertGenServlet?sDoAction=DraftDetail&aAction=GenerateCertificate\")\n",
    "    links= driver.find_elements(By.XPATH, \"//table//tr//td//a\")\n",
    "    for link in links:\n",
    "        href= link.get_attribute(\"href\")\n",
    "        if href.startswith(\"javascript:submissionDetails\"):\n",
    "            link.click()\n",
    "            try:\n",
    "                WebDriverWait(driver= driver, timeout= 15).until(expected_conditions.presence_of_element_located((By.NAME, \"pAccept\"))).click()\n",
    "                time.sleep(0.5)\n",
    "                driver.switch_to.alert.accept()\n",
    "                WebDriverWait(driver= driver, timeout= 15).until(expected_conditions.presence_of_element_located((By.NAME, \"PrintStampCertificateNew\"))).click()\n",
    "                field= WebDriverWait(driver= driver, timeout= 60).until(expected_conditions.presence_of_element_located((By.ID, \"printBtn\")))\n",
    "            except:\n",
    "                break\n",
    "            field.click()\n",
    "            field= WebDriverWait(driver= driver, timeout= 60).until(expected_conditions.presence_of_element_located((By.NAME, \"pDone\")))\n",
    "            # time.sleep(20)\n",
    "            t2= time.time()\n",
    "            print(f\"{i}. Time taken is :\", round((t2- t1), 3), \"seconds.\")\n",
    "            i += 1\n",
    "            break\n",
    "\n",
    "while True:\n",
    "    driver.get(\"https://www.shcilestamp.com/eStampIndia/cert/certsearch/CertSearchServlet?rDoAction=LoadSearchCert\")\n",
    "    time.sleep(280)"
   ]
  },
  {
   "cell_type": "code",
   "execution_count": null,
   "id": "3331bc0e-574f-476b-8602-5effcff93511",
   "metadata": {},
   "outputs": [],
   "source": [
    "# IN-DL17164964084207X"
   ]
  },
  {
   "cell_type": "code",
   "execution_count": 5,
   "id": "557e672c-b759-4508-a9d1-f0ce73d61f2c",
   "metadata": {},
   "outputs": [],
   "source": [
    "From_date= \"02-JUL-2025\"\n",
    "To_date= \"02-JUL-2025\""
   ]
  },
  {
   "cell_type": "code",
   "execution_count": 22,
   "id": "f698f639-1b7f-4cc8-80dd-2de202b20367",
   "metadata": {
    "scrolled": true
   },
   "outputs": [
    {
     "name": "stdout",
     "output_type": "stream",
     "text": [
      "101 1. Time taken is : 29.895 seconds.\n",
      "101 2. Time taken is : 28.53 seconds.\n",
      "101 3. Time taken is : 30.131 seconds.\n",
      "101 4. Time taken is : 22.119 seconds.\n",
      "101 5. Time taken is : 25.274 seconds.\n",
      "101 6. Time taken is : 24.608 seconds.\n",
      "101 7. Time taken is : 31.119 seconds.\n",
      "101 8. Time taken is : 24.484 seconds.\n"
     ]
    }
   ],
   "source": [
    "# Search Certificate and print\n",
    "desired_count= 8\n",
    "start_page= 101\n",
    "end_page= 101\n",
    "for page in range(start_page, end_page + 1):\n",
    "    i= 1\n",
    "    while i <= desired_count:\n",
    "        t1= time.time()\n",
    "        driver.get(\"https://www.shcilestamp.com/eStampIndia/cert/certsearch/CertSearchServlet?rDoAction=LoadSearchCert\")\n",
    "        # driver.find_element(By.ID, \"pPrintStatus\").send_keys(\"Not Printed\")\n",
    "        driver.find_element(By.NAME, \"fromDate\").send_keys(From_date)\n",
    "        driver.find_element(By.NAME, \"toDate\").send_keys(To_date)\n",
    "        driver.find_element(By.NAME, \"pNext1\").click()\n",
    "        time.sleep(2)\n",
    "        field= WebDriverWait(driver= driver, timeout= 10).until(expected_conditions.presence_of_element_located((By.ID, \"selectedPageFromSearch\")))\n",
    "        field.send_keys(page)\n",
    "        button = driver.find_element(By.XPATH, '//input[@value=\" To Page \"]')\n",
    "        button.click()\n",
    "        time.sleep(1)\n",
    "        rows= driver.find_elements(By.XPATH, \"//table//tr\")\n",
    "        for row in rows[1: ]:\n",
    "            cells= row.find_elements(By.TAG_NAME, \"td\")\n",
    "            if len(cells) >= 7:\n",
    "                status= cells[6].text.strip()\n",
    "                if status == \"0\":\n",
    "                    link= cells[0].find_element(By.TAG_NAME, \"a\")\n",
    "                    href= link.get_attribute(\"href\")\n",
    "                    if href.startswith(\"javascript:showSubmission\"):\n",
    "                        link.click()\n",
    "                        try:\n",
    "                            field= WebDriverWait(driver= driver, timeout= 15).until(expected_conditions.presence_of_element_located((By.NAME, \"pPrint\")))\n",
    "                            field.click()\n",
    "                            field= WebDriverWait(driver= driver, timeout= 15).until(expected_conditions.presence_of_element_located((By.NAME, \"PrintStampCertificateNew\")))\n",
    "                            field.click()\n",
    "                            field= WebDriverWait(driver= driver, timeout= 15).until(expected_conditions.presence_of_element_located((By.ID, \"printBtn\")))\n",
    "                        except:\n",
    "                            break\n",
    "                        field.click()\n",
    "                        field= WebDriverWait(driver= driver, timeout= 60).until(expected_conditions.presence_of_element_located((By.NAME, \"pDone\")))\n",
    "                        # time.sleep(20)\n",
    "                        t2= time.time()\n",
    "                        print(f\"{page} {i}. Time taken is :\", round((t2- t1), 3), \"seconds.\")\n",
    "                        i += 1\n",
    "                        break"
   ]
  },
  {
   "cell_type": "code",
   "execution_count": 31,
   "id": "c0bbd8dc-b8f2-4de6-867d-ef9c198eb65c",
   "metadata": {},
   "outputs": [
    {
     "ename": "KeyboardInterrupt",
     "evalue": "",
     "output_type": "error",
     "traceback": [
      "\u001b[1;31m---------------------------------------------------------------------------\u001b[0m",
      "\u001b[1;31mKeyboardInterrupt\u001b[0m                         Traceback (most recent call last)",
      "Cell \u001b[1;32mIn[31], line 2\u001b[0m\n\u001b[0;32m      1\u001b[0m \u001b[38;5;28;01mfor\u001b[39;00m i \u001b[38;5;129;01min\u001b[39;00m \u001b[38;5;28mrange\u001b[39m(\u001b[38;5;241m1000\u001b[39m):\n\u001b[1;32m----> 2\u001b[0m     \u001b[43mdriver\u001b[49m\u001b[38;5;241;43m.\u001b[39;49m\u001b[43mget\u001b[49m\u001b[43m(\u001b[49m\u001b[38;5;124;43m\"\u001b[39;49m\u001b[38;5;124;43mhttps://www.shcilestamp.com/eStampIndia/cert/certsearch/CertSearchServlet?rDoAction=LoadSearchCert\u001b[39;49m\u001b[38;5;124;43m\"\u001b[39;49m\u001b[43m)\u001b[49m\n\u001b[0;32m      3\u001b[0m     \u001b[38;5;28;01mbreak\u001b[39;00m\n\u001b[0;32m      4\u001b[0m     time\u001b[38;5;241m.\u001b[39msleep(\u001b[38;5;241m280\u001b[39m)\n",
      "File \u001b[1;32mD:\\Python\\Python311\\Lib\\site-packages\\undetected_chromedriver\\__init__.py:665\u001b[0m, in \u001b[0;36mChrome.get\u001b[1;34m(self, url)\u001b[0m\n\u001b[0;32m    662\u001b[0m \u001b[38;5;28;01mdef\u001b[39;00m \u001b[38;5;21mget\u001b[39m(\u001b[38;5;28mself\u001b[39m, url):\n\u001b[0;32m    663\u001b[0m     \u001b[38;5;66;03m# if self._get_cdc_props():\u001b[39;00m\n\u001b[0;32m    664\u001b[0m     \u001b[38;5;66;03m#     self._hook_remove_cdc_props()\u001b[39;00m\n\u001b[1;32m--> 665\u001b[0m     \u001b[38;5;28;01mreturn\u001b[39;00m \u001b[38;5;28;43msuper\u001b[39;49m\u001b[43m(\u001b[49m\u001b[43m)\u001b[49m\u001b[38;5;241;43m.\u001b[39;49m\u001b[43mget\u001b[49m\u001b[43m(\u001b[49m\u001b[43murl\u001b[49m\u001b[43m)\u001b[49m\n",
      "File \u001b[1;32mD:\\Python\\Python311\\Lib\\site-packages\\selenium\\webdriver\\remote\\webdriver.py:473\u001b[0m, in \u001b[0;36mWebDriver.get\u001b[1;34m(self, url)\u001b[0m\n\u001b[0;32m    455\u001b[0m \u001b[38;5;28;01mdef\u001b[39;00m \u001b[38;5;21mget\u001b[39m(\u001b[38;5;28mself\u001b[39m, url: \u001b[38;5;28mstr\u001b[39m) \u001b[38;5;241m-\u001b[39m\u001b[38;5;241m>\u001b[39m \u001b[38;5;28;01mNone\u001b[39;00m:\n\u001b[0;32m    456\u001b[0m \u001b[38;5;250m    \u001b[39m\u001b[38;5;124;03m\"\"\"Navigate the browser to the specified URL in the current window or\u001b[39;00m\n\u001b[0;32m    457\u001b[0m \u001b[38;5;124;03m    tab.\u001b[39;00m\n\u001b[0;32m    458\u001b[0m \n\u001b[1;32m   (...)\u001b[0m\n\u001b[0;32m    471\u001b[0m \u001b[38;5;124;03m    >>> driver.get(\"https://example.com\")\u001b[39;00m\n\u001b[0;32m    472\u001b[0m \u001b[38;5;124;03m    \"\"\"\u001b[39;00m\n\u001b[1;32m--> 473\u001b[0m     \u001b[38;5;28;43mself\u001b[39;49m\u001b[38;5;241;43m.\u001b[39;49m\u001b[43mexecute\u001b[49m\u001b[43m(\u001b[49m\u001b[43mCommand\u001b[49m\u001b[38;5;241;43m.\u001b[39;49m\u001b[43mGET\u001b[49m\u001b[43m,\u001b[49m\u001b[43m \u001b[49m\u001b[43m{\u001b[49m\u001b[38;5;124;43m\"\u001b[39;49m\u001b[38;5;124;43murl\u001b[39;49m\u001b[38;5;124;43m\"\u001b[39;49m\u001b[43m:\u001b[49m\u001b[43m \u001b[49m\u001b[43murl\u001b[49m\u001b[43m}\u001b[49m\u001b[43m)\u001b[49m\n",
      "File \u001b[1;32mD:\\Python\\Python311\\Lib\\site-packages\\selenium\\webdriver\\remote\\webdriver.py:446\u001b[0m, in \u001b[0;36mWebDriver.execute\u001b[1;34m(self, driver_command, params)\u001b[0m\n\u001b[0;32m    443\u001b[0m     \u001b[38;5;28;01melif\u001b[39;00m \u001b[38;5;124m\"\u001b[39m\u001b[38;5;124msessionId\u001b[39m\u001b[38;5;124m\"\u001b[39m \u001b[38;5;129;01mnot\u001b[39;00m \u001b[38;5;129;01min\u001b[39;00m params:\n\u001b[0;32m    444\u001b[0m         params[\u001b[38;5;124m\"\u001b[39m\u001b[38;5;124msessionId\u001b[39m\u001b[38;5;124m\"\u001b[39m] \u001b[38;5;241m=\u001b[39m \u001b[38;5;28mself\u001b[39m\u001b[38;5;241m.\u001b[39msession_id\n\u001b[1;32m--> 446\u001b[0m response \u001b[38;5;241m=\u001b[39m \u001b[38;5;28;43mself\u001b[39;49m\u001b[38;5;241;43m.\u001b[39;49m\u001b[43mcommand_executor\u001b[49m\u001b[38;5;241;43m.\u001b[39;49m\u001b[43mexecute\u001b[49m\u001b[43m(\u001b[49m\u001b[43mdriver_command\u001b[49m\u001b[43m,\u001b[49m\u001b[43m \u001b[49m\u001b[43mparams\u001b[49m\u001b[43m)\u001b[49m\n\u001b[0;32m    447\u001b[0m \u001b[38;5;28;01mif\u001b[39;00m response:\n\u001b[0;32m    448\u001b[0m     \u001b[38;5;28mself\u001b[39m\u001b[38;5;241m.\u001b[39merror_handler\u001b[38;5;241m.\u001b[39mcheck_response(response)\n",
      "File \u001b[1;32mD:\\Python\\Python311\\Lib\\site-packages\\selenium\\webdriver\\remote\\remote_connection.py:404\u001b[0m, in \u001b[0;36mRemoteConnection.execute\u001b[1;34m(self, command, params)\u001b[0m\n\u001b[0;32m    402\u001b[0m trimmed \u001b[38;5;241m=\u001b[39m \u001b[38;5;28mself\u001b[39m\u001b[38;5;241m.\u001b[39m_trim_large_entries(params)\n\u001b[0;32m    403\u001b[0m LOGGER\u001b[38;5;241m.\u001b[39mdebug(\u001b[38;5;124m\"\u001b[39m\u001b[38;5;132;01m%s\u001b[39;00m\u001b[38;5;124m \u001b[39m\u001b[38;5;132;01m%s\u001b[39;00m\u001b[38;5;124m \u001b[39m\u001b[38;5;132;01m%s\u001b[39;00m\u001b[38;5;124m\"\u001b[39m, command_info[\u001b[38;5;241m0\u001b[39m], url, \u001b[38;5;28mstr\u001b[39m(trimmed))\n\u001b[1;32m--> 404\u001b[0m \u001b[38;5;28;01mreturn\u001b[39;00m \u001b[38;5;28;43mself\u001b[39;49m\u001b[38;5;241;43m.\u001b[39;49m\u001b[43m_request\u001b[49m\u001b[43m(\u001b[49m\u001b[43mcommand_info\u001b[49m\u001b[43m[\u001b[49m\u001b[38;5;241;43m0\u001b[39;49m\u001b[43m]\u001b[49m\u001b[43m,\u001b[49m\u001b[43m \u001b[49m\u001b[43murl\u001b[49m\u001b[43m,\u001b[49m\u001b[43m \u001b[49m\u001b[43mbody\u001b[49m\u001b[38;5;241;43m=\u001b[39;49m\u001b[43mdata\u001b[49m\u001b[43m)\u001b[49m\n",
      "File \u001b[1;32mD:\\Python\\Python311\\Lib\\site-packages\\selenium\\webdriver\\remote\\remote_connection.py:428\u001b[0m, in \u001b[0;36mRemoteConnection._request\u001b[1;34m(self, method, url, body)\u001b[0m\n\u001b[0;32m    425\u001b[0m     body \u001b[38;5;241m=\u001b[39m \u001b[38;5;28;01mNone\u001b[39;00m\n\u001b[0;32m    427\u001b[0m \u001b[38;5;28;01mif\u001b[39;00m \u001b[38;5;28mself\u001b[39m\u001b[38;5;241m.\u001b[39m_client_config\u001b[38;5;241m.\u001b[39mkeep_alive:\n\u001b[1;32m--> 428\u001b[0m     response \u001b[38;5;241m=\u001b[39m \u001b[38;5;28;43mself\u001b[39;49m\u001b[38;5;241;43m.\u001b[39;49m\u001b[43m_conn\u001b[49m\u001b[38;5;241;43m.\u001b[39;49m\u001b[43mrequest\u001b[49m\u001b[43m(\u001b[49m\u001b[43mmethod\u001b[49m\u001b[43m,\u001b[49m\u001b[43m \u001b[49m\u001b[43murl\u001b[49m\u001b[43m,\u001b[49m\u001b[43m \u001b[49m\u001b[43mbody\u001b[49m\u001b[38;5;241;43m=\u001b[39;49m\u001b[43mbody\u001b[49m\u001b[43m,\u001b[49m\u001b[43m \u001b[49m\u001b[43mheaders\u001b[49m\u001b[38;5;241;43m=\u001b[39;49m\u001b[43mheaders\u001b[49m\u001b[43m,\u001b[49m\u001b[43m \u001b[49m\u001b[43mtimeout\u001b[49m\u001b[38;5;241;43m=\u001b[39;49m\u001b[38;5;28;43mself\u001b[39;49m\u001b[38;5;241;43m.\u001b[39;49m\u001b[43m_client_config\u001b[49m\u001b[38;5;241;43m.\u001b[39;49m\u001b[43mtimeout\u001b[49m\u001b[43m)\u001b[49m\n\u001b[0;32m    429\u001b[0m     statuscode \u001b[38;5;241m=\u001b[39m response\u001b[38;5;241m.\u001b[39mstatus\n\u001b[0;32m    430\u001b[0m \u001b[38;5;28;01melse\u001b[39;00m:\n",
      "File \u001b[1;32mD:\\Python\\Python311\\Lib\\site-packages\\urllib3\\_request_methods.py:144\u001b[0m, in \u001b[0;36mRequestMethods.request\u001b[1;34m(self, method, url, body, fields, headers, json, **urlopen_kw)\u001b[0m\n\u001b[0;32m    136\u001b[0m     \u001b[38;5;28;01mreturn\u001b[39;00m \u001b[38;5;28mself\u001b[39m\u001b[38;5;241m.\u001b[39mrequest_encode_url(\n\u001b[0;32m    137\u001b[0m         method,\n\u001b[0;32m    138\u001b[0m         url,\n\u001b[1;32m   (...)\u001b[0m\n\u001b[0;32m    141\u001b[0m         \u001b[38;5;241m*\u001b[39m\u001b[38;5;241m*\u001b[39murlopen_kw,\n\u001b[0;32m    142\u001b[0m     )\n\u001b[0;32m    143\u001b[0m \u001b[38;5;28;01melse\u001b[39;00m:\n\u001b[1;32m--> 144\u001b[0m     \u001b[38;5;28;01mreturn\u001b[39;00m \u001b[38;5;28;43mself\u001b[39;49m\u001b[38;5;241;43m.\u001b[39;49m\u001b[43mrequest_encode_body\u001b[49m\u001b[43m(\u001b[49m\n\u001b[0;32m    145\u001b[0m \u001b[43m        \u001b[49m\u001b[43mmethod\u001b[49m\u001b[43m,\u001b[49m\u001b[43m \u001b[49m\u001b[43murl\u001b[49m\u001b[43m,\u001b[49m\u001b[43m \u001b[49m\u001b[43mfields\u001b[49m\u001b[38;5;241;43m=\u001b[39;49m\u001b[43mfields\u001b[49m\u001b[43m,\u001b[49m\u001b[43m \u001b[49m\u001b[43mheaders\u001b[49m\u001b[38;5;241;43m=\u001b[39;49m\u001b[43mheaders\u001b[49m\u001b[43m,\u001b[49m\u001b[43m \u001b[49m\u001b[38;5;241;43m*\u001b[39;49m\u001b[38;5;241;43m*\u001b[39;49m\u001b[43murlopen_kw\u001b[49m\n\u001b[0;32m    146\u001b[0m \u001b[43m    \u001b[49m\u001b[43m)\u001b[49m\n",
      "File \u001b[1;32mD:\\Python\\Python311\\Lib\\site-packages\\urllib3\\_request_methods.py:279\u001b[0m, in \u001b[0;36mRequestMethods.request_encode_body\u001b[1;34m(self, method, url, fields, headers, encode_multipart, multipart_boundary, **urlopen_kw)\u001b[0m\n\u001b[0;32m    275\u001b[0m     extra_kw[\u001b[38;5;124m\"\u001b[39m\u001b[38;5;124mheaders\u001b[39m\u001b[38;5;124m\"\u001b[39m]\u001b[38;5;241m.\u001b[39msetdefault(\u001b[38;5;124m\"\u001b[39m\u001b[38;5;124mContent-Type\u001b[39m\u001b[38;5;124m\"\u001b[39m, content_type)\n\u001b[0;32m    277\u001b[0m extra_kw\u001b[38;5;241m.\u001b[39mupdate(urlopen_kw)\n\u001b[1;32m--> 279\u001b[0m \u001b[38;5;28;01mreturn\u001b[39;00m \u001b[38;5;28;43mself\u001b[39;49m\u001b[38;5;241;43m.\u001b[39;49m\u001b[43murlopen\u001b[49m\u001b[43m(\u001b[49m\u001b[43mmethod\u001b[49m\u001b[43m,\u001b[49m\u001b[43m \u001b[49m\u001b[43murl\u001b[49m\u001b[43m,\u001b[49m\u001b[43m \u001b[49m\u001b[38;5;241;43m*\u001b[39;49m\u001b[38;5;241;43m*\u001b[39;49m\u001b[43mextra_kw\u001b[49m\u001b[43m)\u001b[49m\n",
      "File \u001b[1;32mD:\\Python\\Python311\\Lib\\site-packages\\urllib3\\poolmanager.py:444\u001b[0m, in \u001b[0;36mPoolManager.urlopen\u001b[1;34m(self, method, url, redirect, **kw)\u001b[0m\n\u001b[0;32m    442\u001b[0m     response \u001b[38;5;241m=\u001b[39m conn\u001b[38;5;241m.\u001b[39murlopen(method, url, \u001b[38;5;241m*\u001b[39m\u001b[38;5;241m*\u001b[39mkw)\n\u001b[0;32m    443\u001b[0m \u001b[38;5;28;01melse\u001b[39;00m:\n\u001b[1;32m--> 444\u001b[0m     response \u001b[38;5;241m=\u001b[39m \u001b[43mconn\u001b[49m\u001b[38;5;241;43m.\u001b[39;49m\u001b[43murlopen\u001b[49m\u001b[43m(\u001b[49m\u001b[43mmethod\u001b[49m\u001b[43m,\u001b[49m\u001b[43m \u001b[49m\u001b[43mu\u001b[49m\u001b[38;5;241;43m.\u001b[39;49m\u001b[43mrequest_uri\u001b[49m\u001b[43m,\u001b[49m\u001b[43m \u001b[49m\u001b[38;5;241;43m*\u001b[39;49m\u001b[38;5;241;43m*\u001b[39;49m\u001b[43mkw\u001b[49m\u001b[43m)\u001b[49m\n\u001b[0;32m    446\u001b[0m redirect_location \u001b[38;5;241m=\u001b[39m redirect \u001b[38;5;129;01mand\u001b[39;00m response\u001b[38;5;241m.\u001b[39mget_redirect_location()\n\u001b[0;32m    447\u001b[0m \u001b[38;5;28;01mif\u001b[39;00m \u001b[38;5;129;01mnot\u001b[39;00m redirect_location:\n",
      "File \u001b[1;32mD:\\Python\\Python311\\Lib\\site-packages\\urllib3\\connectionpool.py:793\u001b[0m, in \u001b[0;36mHTTPConnectionPool.urlopen\u001b[1;34m(self, method, url, body, headers, retries, redirect, assert_same_host, timeout, pool_timeout, release_conn, chunked, body_pos, preload_content, decode_content, **response_kw)\u001b[0m\n\u001b[0;32m    790\u001b[0m response_conn \u001b[38;5;241m=\u001b[39m conn \u001b[38;5;28;01mif\u001b[39;00m \u001b[38;5;129;01mnot\u001b[39;00m release_conn \u001b[38;5;28;01melse\u001b[39;00m \u001b[38;5;28;01mNone\u001b[39;00m\n\u001b[0;32m    792\u001b[0m \u001b[38;5;66;03m# Make the request on the HTTPConnection object\u001b[39;00m\n\u001b[1;32m--> 793\u001b[0m response \u001b[38;5;241m=\u001b[39m \u001b[38;5;28;43mself\u001b[39;49m\u001b[38;5;241;43m.\u001b[39;49m\u001b[43m_make_request\u001b[49m\u001b[43m(\u001b[49m\n\u001b[0;32m    794\u001b[0m \u001b[43m    \u001b[49m\u001b[43mconn\u001b[49m\u001b[43m,\u001b[49m\n\u001b[0;32m    795\u001b[0m \u001b[43m    \u001b[49m\u001b[43mmethod\u001b[49m\u001b[43m,\u001b[49m\n\u001b[0;32m    796\u001b[0m \u001b[43m    \u001b[49m\u001b[43murl\u001b[49m\u001b[43m,\u001b[49m\n\u001b[0;32m    797\u001b[0m \u001b[43m    \u001b[49m\u001b[43mtimeout\u001b[49m\u001b[38;5;241;43m=\u001b[39;49m\u001b[43mtimeout_obj\u001b[49m\u001b[43m,\u001b[49m\n\u001b[0;32m    798\u001b[0m \u001b[43m    \u001b[49m\u001b[43mbody\u001b[49m\u001b[38;5;241;43m=\u001b[39;49m\u001b[43mbody\u001b[49m\u001b[43m,\u001b[49m\n\u001b[0;32m    799\u001b[0m \u001b[43m    \u001b[49m\u001b[43mheaders\u001b[49m\u001b[38;5;241;43m=\u001b[39;49m\u001b[43mheaders\u001b[49m\u001b[43m,\u001b[49m\n\u001b[0;32m    800\u001b[0m \u001b[43m    \u001b[49m\u001b[43mchunked\u001b[49m\u001b[38;5;241;43m=\u001b[39;49m\u001b[43mchunked\u001b[49m\u001b[43m,\u001b[49m\n\u001b[0;32m    801\u001b[0m \u001b[43m    \u001b[49m\u001b[43mretries\u001b[49m\u001b[38;5;241;43m=\u001b[39;49m\u001b[43mretries\u001b[49m\u001b[43m,\u001b[49m\n\u001b[0;32m    802\u001b[0m \u001b[43m    \u001b[49m\u001b[43mresponse_conn\u001b[49m\u001b[38;5;241;43m=\u001b[39;49m\u001b[43mresponse_conn\u001b[49m\u001b[43m,\u001b[49m\n\u001b[0;32m    803\u001b[0m \u001b[43m    \u001b[49m\u001b[43mpreload_content\u001b[49m\u001b[38;5;241;43m=\u001b[39;49m\u001b[43mpreload_content\u001b[49m\u001b[43m,\u001b[49m\n\u001b[0;32m    804\u001b[0m \u001b[43m    \u001b[49m\u001b[43mdecode_content\u001b[49m\u001b[38;5;241;43m=\u001b[39;49m\u001b[43mdecode_content\u001b[49m\u001b[43m,\u001b[49m\n\u001b[0;32m    805\u001b[0m \u001b[43m    \u001b[49m\u001b[38;5;241;43m*\u001b[39;49m\u001b[38;5;241;43m*\u001b[39;49m\u001b[43mresponse_kw\u001b[49m\u001b[43m,\u001b[49m\n\u001b[0;32m    806\u001b[0m \u001b[43m\u001b[49m\u001b[43m)\u001b[49m\n\u001b[0;32m    808\u001b[0m \u001b[38;5;66;03m# Everything went great!\u001b[39;00m\n\u001b[0;32m    809\u001b[0m clean_exit \u001b[38;5;241m=\u001b[39m \u001b[38;5;28;01mTrue\u001b[39;00m\n",
      "File \u001b[1;32mD:\\Python\\Python311\\Lib\\site-packages\\urllib3\\connectionpool.py:537\u001b[0m, in \u001b[0;36mHTTPConnectionPool._make_request\u001b[1;34m(self, conn, method, url, body, headers, retries, timeout, chunked, response_conn, preload_content, decode_content, enforce_content_length)\u001b[0m\n\u001b[0;32m    535\u001b[0m \u001b[38;5;66;03m# Receive the response from the server\u001b[39;00m\n\u001b[0;32m    536\u001b[0m \u001b[38;5;28;01mtry\u001b[39;00m:\n\u001b[1;32m--> 537\u001b[0m     response \u001b[38;5;241m=\u001b[39m \u001b[43mconn\u001b[49m\u001b[38;5;241;43m.\u001b[39;49m\u001b[43mgetresponse\u001b[49m\u001b[43m(\u001b[49m\u001b[43m)\u001b[49m\n\u001b[0;32m    538\u001b[0m \u001b[38;5;28;01mexcept\u001b[39;00m (BaseSSLError, \u001b[38;5;167;01mOSError\u001b[39;00m) \u001b[38;5;28;01mas\u001b[39;00m e:\n\u001b[0;32m    539\u001b[0m     \u001b[38;5;28mself\u001b[39m\u001b[38;5;241m.\u001b[39m_raise_timeout(err\u001b[38;5;241m=\u001b[39me, url\u001b[38;5;241m=\u001b[39murl, timeout_value\u001b[38;5;241m=\u001b[39mread_timeout)\n",
      "File \u001b[1;32mD:\\Python\\Python311\\Lib\\site-packages\\urllib3\\connection.py:466\u001b[0m, in \u001b[0;36mHTTPConnection.getresponse\u001b[1;34m(self)\u001b[0m\n\u001b[0;32m    463\u001b[0m \u001b[38;5;28;01mfrom\u001b[39;00m \u001b[38;5;21;01m.\u001b[39;00m\u001b[38;5;21;01mresponse\u001b[39;00m \u001b[38;5;28;01mimport\u001b[39;00m HTTPResponse\n\u001b[0;32m    465\u001b[0m \u001b[38;5;66;03m# Get the response from http.client.HTTPConnection\u001b[39;00m\n\u001b[1;32m--> 466\u001b[0m httplib_response \u001b[38;5;241m=\u001b[39m \u001b[38;5;28;43msuper\u001b[39;49m\u001b[43m(\u001b[49m\u001b[43m)\u001b[49m\u001b[38;5;241;43m.\u001b[39;49m\u001b[43mgetresponse\u001b[49m\u001b[43m(\u001b[49m\u001b[43m)\u001b[49m\n\u001b[0;32m    468\u001b[0m \u001b[38;5;28;01mtry\u001b[39;00m:\n\u001b[0;32m    469\u001b[0m     assert_header_parsing(httplib_response\u001b[38;5;241m.\u001b[39mmsg)\n",
      "File \u001b[1;32mD:\\Python\\Python311\\Lib\\http\\client.py:1395\u001b[0m, in \u001b[0;36mHTTPConnection.getresponse\u001b[1;34m(self)\u001b[0m\n\u001b[0;32m   1393\u001b[0m \u001b[38;5;28;01mtry\u001b[39;00m:\n\u001b[0;32m   1394\u001b[0m     \u001b[38;5;28;01mtry\u001b[39;00m:\n\u001b[1;32m-> 1395\u001b[0m         \u001b[43mresponse\u001b[49m\u001b[38;5;241;43m.\u001b[39;49m\u001b[43mbegin\u001b[49m\u001b[43m(\u001b[49m\u001b[43m)\u001b[49m\n\u001b[0;32m   1396\u001b[0m     \u001b[38;5;28;01mexcept\u001b[39;00m \u001b[38;5;167;01mConnectionError\u001b[39;00m:\n\u001b[0;32m   1397\u001b[0m         \u001b[38;5;28mself\u001b[39m\u001b[38;5;241m.\u001b[39mclose()\n",
      "File \u001b[1;32mD:\\Python\\Python311\\Lib\\http\\client.py:325\u001b[0m, in \u001b[0;36mHTTPResponse.begin\u001b[1;34m(self)\u001b[0m\n\u001b[0;32m    323\u001b[0m \u001b[38;5;66;03m# read until we get a non-100 response\u001b[39;00m\n\u001b[0;32m    324\u001b[0m \u001b[38;5;28;01mwhile\u001b[39;00m \u001b[38;5;28;01mTrue\u001b[39;00m:\n\u001b[1;32m--> 325\u001b[0m     version, status, reason \u001b[38;5;241m=\u001b[39m \u001b[38;5;28;43mself\u001b[39;49m\u001b[38;5;241;43m.\u001b[39;49m\u001b[43m_read_status\u001b[49m\u001b[43m(\u001b[49m\u001b[43m)\u001b[49m\n\u001b[0;32m    326\u001b[0m     \u001b[38;5;28;01mif\u001b[39;00m status \u001b[38;5;241m!=\u001b[39m CONTINUE:\n\u001b[0;32m    327\u001b[0m         \u001b[38;5;28;01mbreak\u001b[39;00m\n",
      "File \u001b[1;32mD:\\Python\\Python311\\Lib\\http\\client.py:286\u001b[0m, in \u001b[0;36mHTTPResponse._read_status\u001b[1;34m(self)\u001b[0m\n\u001b[0;32m    285\u001b[0m \u001b[38;5;28;01mdef\u001b[39;00m \u001b[38;5;21m_read_status\u001b[39m(\u001b[38;5;28mself\u001b[39m):\n\u001b[1;32m--> 286\u001b[0m     line \u001b[38;5;241m=\u001b[39m \u001b[38;5;28mstr\u001b[39m(\u001b[38;5;28mself\u001b[39m\u001b[38;5;241m.\u001b[39mfp\u001b[38;5;241m.\u001b[39mreadline(_MAXLINE \u001b[38;5;241m+\u001b[39m \u001b[38;5;241m1\u001b[39m), \u001b[38;5;124m\"\u001b[39m\u001b[38;5;124miso-8859-1\u001b[39m\u001b[38;5;124m\"\u001b[39m)\n\u001b[0;32m    287\u001b[0m     \u001b[38;5;28;01mif\u001b[39;00m \u001b[38;5;28mlen\u001b[39m(line) \u001b[38;5;241m>\u001b[39m _MAXLINE:\n\u001b[0;32m    288\u001b[0m         \u001b[38;5;28;01mraise\u001b[39;00m LineTooLong(\u001b[38;5;124m\"\u001b[39m\u001b[38;5;124mstatus line\u001b[39m\u001b[38;5;124m\"\u001b[39m)\n",
      "File \u001b[1;32mD:\\Python\\Python311\\Lib\\socket.py:706\u001b[0m, in \u001b[0;36mSocketIO.readinto\u001b[1;34m(self, b)\u001b[0m\n\u001b[0;32m    704\u001b[0m \u001b[38;5;28;01mwhile\u001b[39;00m \u001b[38;5;28;01mTrue\u001b[39;00m:\n\u001b[0;32m    705\u001b[0m     \u001b[38;5;28;01mtry\u001b[39;00m:\n\u001b[1;32m--> 706\u001b[0m         \u001b[38;5;28;01mreturn\u001b[39;00m \u001b[38;5;28;43mself\u001b[39;49m\u001b[38;5;241;43m.\u001b[39;49m\u001b[43m_sock\u001b[49m\u001b[38;5;241;43m.\u001b[39;49m\u001b[43mrecv_into\u001b[49m\u001b[43m(\u001b[49m\u001b[43mb\u001b[49m\u001b[43m)\u001b[49m\n\u001b[0;32m    707\u001b[0m     \u001b[38;5;28;01mexcept\u001b[39;00m timeout:\n\u001b[0;32m    708\u001b[0m         \u001b[38;5;28mself\u001b[39m\u001b[38;5;241m.\u001b[39m_timeout_occurred \u001b[38;5;241m=\u001b[39m \u001b[38;5;28;01mTrue\u001b[39;00m\n",
      "\u001b[1;31mKeyboardInterrupt\u001b[0m: "
     ]
    }
   ],
   "source": [
    "for i in range(1000):\n",
    "    driver.get(\"https://www.shcilestamp.com/eStampIndia/cert/certsearch/CertSearchServlet?rDoAction=LoadSearchCert\")\n",
    "    break\n",
    "    time.sleep(280)"
   ]
  },
  {
   "cell_type": "code",
   "execution_count": null,
   "id": "f5a0e65f-5715-4088-be83-b4bfa300108f",
   "metadata": {},
   "outputs": [],
   "source": []
  },
  {
   "cell_type": "code",
   "execution_count": 4,
   "id": "81c59dea-9d97-4dd7-9e6e-5d727c8c8b0b",
   "metadata": {},
   "outputs": [],
   "source": [
    "import os\n",
    "import time\n",
    "import shutil\n",
    "import win32print\n",
    "import win32api"
   ]
  },
  {
   "cell_type": "code",
   "execution_count": 59,
   "id": "7617cf29-b008-4fe1-901b-6fb7ff1f37e1",
   "metadata": {},
   "outputs": [
    {
     "name": "stdout",
     "output_type": "stream",
     "text": [
      "(8388608, 'Send To OneNote 16,Send to Microsoft OneNote 16 Driver,', 'Send To OneNote 16', '')\n",
      "(8388608, 'OneNote for Windows 10,Microsoft Software Printer Driver,', 'OneNote for Windows 10', '')\n",
      "(8388608, 'Pantum P3300DN Series PS,Pantum P3300DN Series PS,', 'Pantum P3300DN Series PS', '')\n",
      "(8388608, 'Microsoft XPS Document Writer,Microsoft XPS Document Writer v4,', 'Microsoft XPS Document Writer', '')\n",
      "(8388608, 'Microsoft Print to PDF,Microsoft Print To PDF,', 'Microsoft Print to PDF', '')\n",
      "(8388608, 'Fax,Microsoft Shared Fax Driver,', 'Fax', '')\n"
     ]
    }
   ],
   "source": [
    "printers = win32print.EnumPrinters(2)\n",
    "printers = win32print.EnumPrinters(win32print.PRINTER_ENUM_LOCAL | win32print.PRINTER_ENUM_CONNECTIONS)\n",
    "for p in printers:\n",
    "    if \"Pantum\" in p[1]:\n",
    "        l= list(p)\n",
    "    print(p)"
   ]
  },
  {
   "cell_type": "code",
   "execution_count": 62,
   "id": "c17e8e37-1b2c-4e06-aed6-38cc096ff1df",
   "metadata": {},
   "outputs": [
    {
     "data": {
      "text/plain": [
       "'Pantum P3300DN Series PS'"
      ]
     },
     "execution_count": 62,
     "metadata": {},
     "output_type": "execute_result"
    }
   ],
   "source": [
    "printer_info = win32print.GetPrinter(win32print.OpenPrinter(l[2]), 2)\n",
    "printer_name = printer_info['pPrinterName']\n",
    "printer_name"
   ]
  },
  {
   "cell_type": "code",
   "execution_count": null,
   "id": "4292896f-8a58-46f2-9696-25ffcd89ed3d",
   "metadata": {},
   "outputs": [],
   "source": []
  },
  {
   "cell_type": "code",
   "execution_count": 64,
   "id": "ca2a2a49-24d9-4263-beb6-50dd1fce3ccc",
   "metadata": {},
   "outputs": [
    {
     "name": "stdout",
     "output_type": "stream",
     "text": [
      "Pantum printer 'Pantum P3300DN Series PS' is currently printing.\n",
      "New job: New Text Document - Notepad\n",
      "Detected print job #92: New Text Document - Notepad\n"
     ]
    },
    {
     "ename": "KeyboardInterrupt",
     "evalue": "",
     "output_type": "error",
     "traceback": [
      "\u001b[1;31m---------------------------------------------------------------------------\u001b[0m",
      "\u001b[1;31mKeyboardInterrupt\u001b[0m                         Traceback (most recent call last)",
      "Cell \u001b[1;32mIn[64], line 2\u001b[0m\n\u001b[0;32m      1\u001b[0m \u001b[38;5;28;01mwhile\u001b[39;00m \u001b[38;5;28;01mTrue\u001b[39;00m:\n\u001b[1;32m----> 2\u001b[0m     printer_handle \u001b[38;5;241m=\u001b[39m \u001b[43mwin32print\u001b[49m\u001b[38;5;241;43m.\u001b[39;49m\u001b[43mOpenPrinter\u001b[49m\u001b[43m(\u001b[49m\u001b[43mprinter_name\u001b[49m\u001b[43m)\u001b[49m\n\u001b[0;32m      3\u001b[0m     jobs \u001b[38;5;241m=\u001b[39m win32print\u001b[38;5;241m.\u001b[39mEnumJobs(printer_handle, \u001b[38;5;241m0\u001b[39m, \u001b[38;5;241m99\u001b[39m, \u001b[38;5;241m1\u001b[39m)\n\u001b[0;32m      4\u001b[0m     \u001b[38;5;28;01mif\u001b[39;00m jobs:\n",
      "\u001b[1;31mKeyboardInterrupt\u001b[0m: "
     ]
    }
   ],
   "source": [
    "while True:\n",
    "    printer_handle = win32print.OpenPrinter(printer_name)\n",
    "    jobs = win32print.EnumJobs(printer_handle, 0, 99, 1)\n",
    "    if jobs:\n",
    "        print(f\"Pantum printer '{printer_name}' is currently printing.\")\n",
    "        print(\"New job:\", jobs[0]['pDocument'])\n",
    "        job_id = jobs[0]['JobId']\n",
    "        doc_name = jobs[0]['pDocument']\n",
    "\n",
    "        print(f\"Detected print job #{job_id}: {doc_name}\")\n",
    "        processed_jobs.add(job_id)\n",
    "        time.sleep(2)"
   ]
  },
  {
   "cell_type": "code",
   "execution_count": 68,
   "id": "8c5a2232-9036-4619-95de-c9165adff666",
   "metadata": {},
   "outputs": [],
   "source": [
    "SPOOL_DIR = r\"C:\\Windows\\System32\\spool\\PRINTERS\"\n",
    "OUTPUT_DIR = os.path.join(os.getcwd(), \"Stamp papers\")\n",
    "GHOSTSCRIPT_EXE = r\"C:\\Program Files\\gs\\gs10.05.1\\bin\\gswin64c.exe\"  # Change path if needed\n",
    "\n",
    "# Create output directory if not exists\n",
    "os.makedirs(OUTPUT_DIR, exist_ok=True)\n",
    "# Track jobs we've already processed\n",
    "processed_jobs = set()\n",
    "\n",
    "def convert_prn_to_pdf(prn_path, output_pdf_path):\n",
    "    # Ghostscript command\n",
    "    command = f'\"{GHOSTSCRIPT_EXE}\" -sDEVICE=pdfwrite -o \"{output_pdf_path}\" -f \"{prn_path}\"'\n",
    "    print(f\"Running: {command}\")\n",
    "    os.system(command)"
   ]
  },
  {
   "cell_type": "code",
   "execution_count": null,
   "id": "f44da585-c903-487e-ad4d-a297cd30d661",
   "metadata": {},
   "outputs": [
    {
     "name": "stdout",
     "output_type": "stream",
     "text": [
      "Monitoring printer: Pantum P3300DN Series PS\n",
      "Pantum printer 'Pantum P3300DN Series PS' is currently printing.\n",
      "New job: New Text Document - Notepad\n",
      "Detected print job #95: New Text Document - Notepad\n",
      "No spool files found.\n",
      "Pantum printer 'Pantum P3300DN Series PS' is currently printing.\n",
      "New job: New Text Document - Notepad\n",
      "Detected print job #96: New Text Document - Notepad\n",
      "No spool files found.\n",
      "Pantum printer 'Pantum P3300DN Series PS' is currently printing.\n",
      "New job: New Text Document - Notepad\n",
      "Detected print job #97: New Text Document - Notepad\n",
      "No spool files found.\n"
     ]
    }
   ],
   "source": [
    "print(f\"Monitoring printer: {printer_name}\")\n",
    "printer_handle = win32print.OpenPrinter(printer_name)    \n",
    "while True:\n",
    "    jobs = win32print.EnumJobs(printer_handle, 0, 99, 1)\n",
    "    if jobs:\n",
    "        print(f\"Pantum printer '{printer_name}' is currently printing.\")\n",
    "        print(\"New job:\", jobs[0]['pDocument'])\n",
    "        job_id = jobs[0]['JobId']\n",
    "        doc_name = jobs[0]['pDocument']\n",
    "        if job_id in processed_jobs:\n",
    "            continue\n",
    "\n",
    "        print(f\"Detected print job #{job_id}: {doc_name}\")\n",
    "        processed_jobs.add(job_id)\n",
    "\n",
    "        # Wait briefly to ensure spool files are fully written\n",
    "        time.sleep(3)\n",
    "\n",
    "        # Look for .spl/.shd file\n",
    "        files = os.listdir(SPOOL_DIR)\n",
    "        spl_files = [f for f in files if f.endswith('.spl')]\n",
    "        if not spl_files:\n",
    "            print(\"No spool files found.\")\n",
    "            continue\n",
    "\n",
    "        latest_file = max([os.path.join(SPOOL_DIR, f) for f in spl_files], key=os.path.getctime)\n",
    "        timestamp = time.strftime(\"%Y%m%d_%H%M%S\")\n",
    "        prn_path = os.path.join(OUTPUT_DIR, f\"{doc_name}_{timestamp}.prn\")\n",
    "        shutil.copy2(latest_file, prn_path)\n",
    "        print(f\"Saved spool file as {prn_path}\")\n",
    "\n",
    "        # Convert to PDF\n",
    "        pdf_path = prn_path.replace(\".prn\", \".pdf\")\n",
    "        convert_prn_to_pdf(prn_path, pdf_path)\n",
    "        print(f\"Converted to PDF: {pdf_path}\")"
   ]
  },
  {
   "cell_type": "code",
   "execution_count": null,
   "id": "84cd7d29-936c-4049-9934-ff1de7c6e8d3",
   "metadata": {},
   "outputs": [],
   "source": []
  },
  {
   "cell_type": "code",
   "execution_count": null,
   "id": "e7f80e29-198c-4a00-978d-c0c96d1d7f64",
   "metadata": {},
   "outputs": [],
   "source": []
  },
  {
   "cell_type": "code",
   "execution_count": null,
   "id": "ebe49221-9923-482e-833a-3ac70ae1a9be",
   "metadata": {},
   "outputs": [],
   "source": []
  },
  {
   "cell_type": "code",
   "execution_count": null,
   "id": "36a8a4cc-7735-4d64-a50b-6dfc49357036",
   "metadata": {},
   "outputs": [],
   "source": []
  }
 ],
 "metadata": {
  "kernelspec": {
   "display_name": "Python 3 (ipykernel)",
   "language": "python",
   "name": "python3"
  },
  "language_info": {
   "codemirror_mode": {
    "name": "ipython",
    "version": 3
   },
   "file_extension": ".py",
   "mimetype": "text/x-python",
   "name": "python",
   "nbconvert_exporter": "python",
   "pygments_lexer": "ipython3",
   "version": "3.11.9"
  }
 },
 "nbformat": 4,
 "nbformat_minor": 5
}
