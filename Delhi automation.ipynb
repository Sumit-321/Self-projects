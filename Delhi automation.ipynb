{
 "cells": [
  {
   "cell_type": "code",
   "execution_count": 1,
   "id": "66ce0d46-eac5-44cf-a6b3-4b4e48f17edb",
   "metadata": {},
   "outputs": [],
   "source": [
    "import selenium.webdriver\n",
    "from selenium.webdriver.common.by import By\n",
    "from selenium.webdriver.common.keys import Keys\n",
    "from selenium.webdriver.chrome.service import Service\n",
    "from selenium.webdriver.chrome.options import Options\n",
    "import time"
   ]
  },
  {
   "cell_type": "code",
   "execution_count": 2,
   "id": "ce9dc74b-4f65-4fcb-961c-d845099ab1a6",
   "metadata": {},
   "outputs": [],
   "source": [
    "# from webdriver_manager.chrome import ChromeDriverManager\n",
    "# driver = webdriver.Chrome(service=Service(ChromeDriverManager().install()))\n",
    "driver = selenium.webdriver.Chrome()\n",
    "driver.get(\"https://www.shcilestamp.com/eStampIndia/useradmin/UserAdminLoginServlet?rDoAction=LoadLoginPage\")\n",
    "driver.find_element(By.NAME, \"userId\").send_keys(\"dlsandhau\")\n",
    "driver.find_element(By.NAME, \"userPwd\").send_keys(\"nee@1234\")\n",
    "# Click the submit button\n",
    "# driver.find_element(By.ID, \"u_0_5_Ql\").click()\n",
    "# Close the browser\n",
    "# driver.quit()"
   ]
  },
  {
   "cell_type": "code",
   "execution_count": 1,
   "id": "d98ff518-cd99-4831-9976-b0dba3dc5899",
   "metadata": {},
   "outputs": [],
   "source": [
    "driver.get(\"https://www.shcilestamp.com/eStampIndia/useradmin/UserAdminLoginServlet?rDoAction=selectOtp\")\n",
    "driver.find_element(By.NAME, \"Next\").click()"
   ]
  },
  {
   "cell_type": "code",
   "execution_count": 18,
   "id": "6ddd3443-e56b-409b-ab88-d467c03e9abb",
   "metadata": {},
   "outputs": [],
   "source": [
    "# Create Submission\n",
    "desired_count= 995\n",
    "for i in range(desired_count):\n",
    "    driver.get(\"https://www.shcilestamp.com/eStampIndia/submission/SubmissionServlet?rDoAction=LoadStampDuty\")\n",
    "    driver.find_element(By.ID, \"RegSD\").send_keys(\"Affidavit [4]\")\n",
    "    driver.find_element(By.NAME, \"pNext\").click()\n",
    "    time.sleep(2)\n",
    "    # driver.get(\"https://www.shcilestamp.com/eStampIndia/submission/SubmissionServlet\")\n",
    "    driver.find_element(By.ID, \"TextField6Mand\").send_keys(\"HDFC Bank Ltd\")   # Purchased by\n",
    "    driver.find_element(By.ID, \"TextArea8Mand\").send_keys(\"NA\")  # Description of Document\n",
    "    driver.find_element(By.ID, \"TextField11Mand\").send_keys(\"HDFC Bank Ltd\")  # First Party\n",
    "    driver.find_element(By.ID, \"TextField18Mand\").send_keys(\"As per agreement with HDFC Bank Ltd\")   # Second Party\n",
    "    driver.find_element(By.ID, \"TextField24Mand\").send_keys(\"HDFC Bank Ltd\")  # Stamp Duty Paid By\n",
    "    driver.find_element(By.ID, \"TextField28Mand\").send_keys(\"10\")  # Stamp Duty Amount\n",
    "    driver.find_element(By.ID, \"TextField24Mand\").click()  # \n",
    "    driver.switch_to.alert.accept()\n",
    "    driver.find_element(By.ID, \"fpMobNo\").send_keys(\"8587876677\")   # First Party Mobile No\n",
    "    driver.find_element(By.NAME, \"pSave\").click()\n",
    "    driver.switch_to.alert.accept()\n",
    "    time.sleep(1)\n",
    "    print(i)"
   ]
  },
  {
   "cell_type": "code",
   "execution_count": 2,
   "id": "6dc07eb9-adca-492a-a5ee-168702e138a3",
   "metadata": {},
   "outputs": [],
   "source": [
    "# Generate Certificate\n",
    "desired_count= 5\n",
    "i= 1\n",
    "while i <= desired_count:\n",
    "    t1= time.time()\n",
    "    driver.get(\"https://www.shcilestamp.com/eStampIndia/cert/certgen/CertGenServlet?sDoAction=DraftDetail&aAction=GenerateCertificate\")\n",
    "    links= driver.find_elements(By.XPATH, \"//table//tr//td//a\")\n",
    "    for link in links:\n",
    "        href= link.get_attribute(\"href\")\n",
    "        if href.startswith(\"javascript:submissionDetails\"):\n",
    "            link.click()\n",
    "            time.sleep(1)\n",
    "            driver.find_element(By.NAME, \"pAccept\").click()\n",
    "            driver.switch_to.alert.accept()\n",
    "            time.sleep(2)\n",
    "            driver.find_element(By.NAME, \"PrintStampCertificateNew\").click()\n",
    "            time.sleep(3)\n",
    "            driver.find_element(By.ID, \"printBtn\").click()\n",
    "            time.sleep(20)\n",
    "            t2= time.time()\n",
    "            print(f\"{i}. Time taken is :\", round((t2- t1), 3), \"seconds.\")\n",
    "            i += 1\n",
    "            break"
   ]
  },
  {
   "cell_type": "code",
   "execution_count": 3,
   "id": "f8b9918a-9a91-445b-b4ec-b8f402268b7e",
   "metadata": {},
   "outputs": [],
   "source": [
    "# Create Submission & Print\n",
    "desired_count= 3\n",
    "for i in range(1, desired_count + 1):\n",
    "    t1= time.time()\n",
    "    driver.get(\"https://www.shcilestamp.com/eStampIndia/submission/SubmissionServlet?rDoAction=LoadStampDuty\")\n",
    "    driver.find_element(By.ID, \"RegSD\").send_keys(\"Affidavit [4]\")\n",
    "    driver.find_element(By.NAME, \"pNext\").click()\n",
    "    time.sleep(2)\n",
    "    # driver.get(\"https://www.shcilestamp.com/eStampIndia/submission/SubmissionServlet\")\n",
    "    driver.find_element(By.ID, \"TextField6Mand\").send_keys(\"HDFC Bank Ltd\")   # Purchased by\n",
    "    driver.find_element(By.ID, \"TextArea8Mand\").send_keys(\"NA\")  # Description of Document\n",
    "    driver.find_element(By.ID, \"TextField11Mand\").send_keys(\"HDFC Bank Ltd\")  # First Party\n",
    "    driver.find_element(By.ID, \"TextField18Mand\").send_keys(\"As per agreement with HDFC Bank Ltd\")   # Second Party\n",
    "    driver.find_element(By.ID, \"TextField24Mand\").send_keys(\"HDFC Bank Ltd\")  # Stamp Duty Paid By\n",
    "    driver.find_element(By.ID, \"TextField28Mand\").send_keys(\"10\")  # Stamp Duty Amount\n",
    "    driver.find_element(By.ID, \"TextField24Mand\").click()  # \n",
    "    driver.switch_to.alert.accept()\n",
    "    driver.find_element(By.ID, \"fpMobNo\").send_keys(\"8587876677\")   # First Party Mobile No\n",
    "    driver.find_element(By.NAME, \"pSave\").click()\n",
    "    driver.switch_to.alert.accept()\n",
    "    time.sleep(1)\n",
    "    buttons= driver.find_elements(By.NAME, \"pNext\")\n",
    "    buttons[1].click()\n",
    "    time.sleep(1)\n",
    "    driver.find_element(By.NAME, \"pAccept\").click()\n",
    "    driver.switch_to.alert.accept()\n",
    "    time.sleep(2)\n",
    "    driver.find_element(By.NAME, \"PrintStampCertificateNew\").click()\n",
    "    time.sleep(3)\n",
    "    driver.find_element(By.ID, \"printBtn\").click()\n",
    "    time.sleep(20)\n",
    "    t2= time.time()\n",
    "    print(f\"{i}. Time taken is :\", round((t2- t1), 3), \"seconds.\")"
   ]
  },
  {
   "cell_type": "code",
   "execution_count": null,
   "id": "01e1534e-5b92-4fdb-8bb9-b7cba6f6efce",
   "metadata": {},
   "outputs": [],
   "source": []
  },
  {
   "cell_type": "code",
   "execution_count": null,
   "id": "1765460b-77dc-4156-97d1-14301c885428",
   "metadata": {},
   "outputs": [],
   "source": []
  },
  {
   "cell_type": "code",
   "execution_count": null,
   "id": "17162173-a7ea-4ba9-883b-eade9fafd119",
   "metadata": {},
   "outputs": [],
   "source": []
  },
  {
   "cell_type": "code",
   "execution_count": null,
   "id": "11fb6fdb-ea9f-4e6f-887d-62be4ddf6444",
   "metadata": {},
   "outputs": [],
   "source": []
  },
  {
   "cell_type": "code",
   "execution_count": null,
   "id": "45142ece-7675-4257-b97a-ba9c3cdaaa09",
   "metadata": {},
   "outputs": [],
   "source": []
  },
  {
   "cell_type": "code",
   "execution_count": null,
   "id": "62574d8c-da3d-4e36-bb01-c0ce591c1187",
   "metadata": {},
   "outputs": [],
   "source": []
  },
  {
   "cell_type": "code",
   "execution_count": null,
   "id": "cf2611be-ce16-48ff-a6e5-b2a2afab106b",
   "metadata": {},
   "outputs": [],
   "source": []
  },
  {
   "cell_type": "code",
   "execution_count": null,
   "id": "3ada4a03-cd06-46f4-a915-11474e94d09b",
   "metadata": {},
   "outputs": [],
   "source": []
  },
  {
   "cell_type": "code",
   "execution_count": null,
   "id": "f3cf8897-1e49-4e58-bc33-62257287b372",
   "metadata": {},
   "outputs": [],
   "source": []
  },
  {
   "cell_type": "code",
   "execution_count": null,
   "id": "e8777f82-23e8-436b-a880-27f967ee66e4",
   "metadata": {},
   "outputs": [],
   "source": []
  },
  {
   "cell_type": "code",
   "execution_count": null,
   "id": "ac5c90a9-410f-4525-9c8c-448ebf26ea5c",
   "metadata": {},
   "outputs": [],
   "source": []
  },
  {
   "cell_type": "code",
   "execution_count": null,
   "id": "6c751e08-a0d1-40e1-9706-2b47908285ba",
   "metadata": {},
   "outputs": [],
   "source": []
  },
  {
   "cell_type": "code",
   "execution_count": null,
   "id": "17c8e190-8bf0-4706-8359-afb29a1dad20",
   "metadata": {},
   "outputs": [],
   "source": []
  },
  {
   "cell_type": "code",
   "execution_count": null,
   "id": "fa2739f1-6ca1-46eb-ba5d-4494496809fc",
   "metadata": {},
   "outputs": [],
   "source": []
  },
  {
   "cell_type": "code",
   "execution_count": null,
   "id": "fd977669-3723-42ba-a4c8-68a04c88ed6f",
   "metadata": {},
   "outputs": [],
   "source": []
  },
  {
   "cell_type": "code",
   "execution_count": null,
   "id": "9d9a2baa-d87c-4445-b052-fb418ea7f731",
   "metadata": {},
   "outputs": [],
   "source": []
  },
  {
   "cell_type": "code",
   "execution_count": null,
   "id": "be0afa63-f878-459d-8beb-f00b3fb144af",
   "metadata": {},
   "outputs": [],
   "source": []
  },
  {
   "cell_type": "code",
   "execution_count": null,
   "id": "49dddb7e-ab8f-49b8-8f24-a36c188c9388",
   "metadata": {},
   "outputs": [],
   "source": []
  },
  {
   "cell_type": "code",
   "execution_count": null,
   "id": "a98b2f3f-03c5-4559-86ce-527b78dd0efd",
   "metadata": {},
   "outputs": [],
   "source": []
  },
  {
   "cell_type": "code",
   "execution_count": null,
   "id": "02b90131-4d1e-46b7-afb6-903e9a4ecc7c",
   "metadata": {},
   "outputs": [],
   "source": []
  },
  {
   "cell_type": "code",
   "execution_count": null,
   "id": "4c54b133-3e1d-4b25-86f9-e1fdeecee427",
   "metadata": {},
   "outputs": [],
   "source": []
  },
  {
   "cell_type": "code",
   "execution_count": null,
   "id": "13553b4c-2e36-47b2-92ea-a3b396783261",
   "metadata": {},
   "outputs": [],
   "source": []
  }
 ],
 "metadata": {
  "kernelspec": {
   "display_name": "Python 3 (ipykernel)",
   "language": "python",
   "name": "python3"
  },
  "language_info": {
   "codemirror_mode": {
    "name": "ipython",
    "version": 3
   },
   "file_extension": ".py",
   "mimetype": "text/x-python",
   "name": "python",
   "nbconvert_exporter": "python",
   "pygments_lexer": "ipython3",
   "version": "3.11.9"
  }
 },
 "nbformat": 4,
 "nbformat_minor": 5
}
